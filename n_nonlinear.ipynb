{
 "cells": [
  {
   "cell_type": "code",
   "execution_count": 2,
   "id": "c366cc88",
   "metadata": {},
   "outputs": [
    {
     "name": "stdout",
     "output_type": "stream",
     "text": [
      "Number of iteration:  51\n",
      "\n",
      "min u(x, y): [2.75496292e-10]\n",
      "min v(x, y): [9.66762226e-11]\n",
      "At point (-0.5248885985368964, 0.7244919589585781)\n",
      "\n",
      "So min value of g(x,y):  8.524449916417797e-20\n"
     ]
    }
   ],
   "source": [
    "import numpy as np\n",
    "from sympy import *\n",
    "\n",
    "# constructing functions\n",
    "x, y = symbols('x, y')\n",
    "u = 1 - x**2 - y\n",
    "v = x + y**2\n",
    "\n",
    "\n",
    "# Computing Jacobian\n",
    "A = Matrix([u, v])\n",
    "J = np.array(A.jacobian([x, y]))\n",
    "J_sh = J.shape\n",
    "J_val = np.zeros(J_sh)\n",
    "\n",
    "\n",
    "F = np.array([[eval(str(u))], [eval(str(v))]])\n",
    "X0 = np.array([[0], [0]])\n",
    "\n",
    "X1 = np.array([[10], [10]])                         # Initialize arbritary big X1 value\n",
    "c = 0\n",
    "\n",
    "for it in range(100):\n",
    "    x, y = float(X0[0]), float(X0[1])\n",
    "    for i in range(J_sh[0]):                        # Evaluating Jacobian value at x, y\n",
    "        for j in range(J_sh[1]):\n",
    "            J_val[i][j] = eval(str(J[i][j]))\n",
    "    F = np.array([[eval(str(u))], [eval(str(v))]])\n",
    "    X1 = X0 - 0.1*2*np.dot(J_val.T, F)              # Gradient Decent\n",
    "    if abs(np.linalg.norm(X1-X0))< 10**(-10):       # if norm(X1 - X0) > 10**(-5) then break\n",
    "        break\n",
    "    X0 = X1\n",
    "    c += 1\n",
    "    \n",
    "print(\"Number of iteration: \",c)\n",
    "x, y = float(X0[0]), float(X0[1])\n",
    "F = np.array([[eval(str(u))], [eval(str(v))]])\n",
    "print(\"\\nmin u(x, y): {}\\nmin v(x, y): {}\".format(F[0],F[1]))\n",
    "print(\"At point ({}, {})\\n\".format(float(X1[0]),float(X1[1])))\n",
    "\n",
    "g = eval(str(u))**2 + eval(str(v))**2\n",
    "print(\"So min value of g(x,y): \",g)                 # g = u**2 + v**2"
   ]
  },
  {
   "cell_type": "code",
   "execution_count": null,
   "id": "5fb90ff0",
   "metadata": {},
   "outputs": [],
   "source": []
  }
 ],
 "metadata": {
  "kernelspec": {
   "display_name": "Python 3 (ipykernel)",
   "language": "python",
   "name": "python3"
  },
  "language_info": {
   "codemirror_mode": {
    "name": "ipython",
    "version": 3
   },
   "file_extension": ".py",
   "mimetype": "text/x-python",
   "name": "python",
   "nbconvert_exporter": "python",
   "pygments_lexer": "ipython3",
   "version": "3.9.7"
  }
 },
 "nbformat": 4,
 "nbformat_minor": 5
}
