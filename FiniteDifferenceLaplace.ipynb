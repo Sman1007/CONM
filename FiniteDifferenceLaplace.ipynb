{
 "cells": [
  {
   "cell_type": "markdown",
   "id": "9f237c22",
   "metadata": {},
   "source": [
    "## Finite Difference Method for Laplace Equation"
   ]
  },
  {
   "cell_type": "code",
   "execution_count": 2,
   "id": "b3ba5488",
   "metadata": {},
   "outputs": [
    {
     "name": "stdout",
     "output_type": "stream",
     "text": [
      "Solution:  [15.59438378 35.36583463 55.19890796  2.01170047 20.6700468  35.42979719\n",
      "  2.97113885  9.87285491 15.85023401]\n"
     ]
    }
   ],
   "source": [
    "import numpy as np\n",
    "\n",
    "\n",
    "A = np.matrix([[4, -1, 0, -1, 0, 0, 0, 0, 0],\n",
    "            [-1, 4, -1, 0, -1, 0, 0, 0, 0],\n",
    "            [0, -1, 4, 0, 0, -1, 0, 0 , 0],\n",
    "            [1, 0, 0, 4, -1, 0, -1, 0, 0],\n",
    "            [0, -1, 0, -1, 4, -1, 0, -1, 0],\n",
    "            [0, 0, -1, 0, -1, 4, 0, 0,-1],\n",
    "            [0, 0, 0, -1, 0, 0, 4, -1, 0],\n",
    "            [0, 0, 0, 0, -1, 0, -1, 4, -1],\n",
    "            [0, 0, 0, 0, 0, -1, -1, 0, 4]])\n",
    "b = [0, 25, 50, 75, 100, 75, 50, 25, 0, 0, 0, 0, 0, 0, 0, 0]\n",
    "b = np.array([ b[1] + b[15],\n",
    "             b[2],\n",
    "             b[3] + b[5],\n",
    "             b[14],\n",
    "             0,\n",
    "             b[6],\n",
    "             b[11]+ b[13],\n",
    "             b[10],\n",
    "             b[7]+b[9] ])\n",
    "\n",
    "X = np.linalg.lstsq(A, b, rcond = None)\n",
    "print(\"Solution: \",X[0])"
   ]
  },
  {
   "cell_type": "code",
   "execution_count": null,
   "id": "5227ca23",
   "metadata": {},
   "outputs": [],
   "source": []
  }
 ],
 "metadata": {
  "kernelspec": {
   "display_name": "Python 3 (ipykernel)",
   "language": "python",
   "name": "python3"
  },
  "language_info": {
   "codemirror_mode": {
    "name": "ipython",
    "version": 3
   },
   "file_extension": ".py",
   "mimetype": "text/x-python",
   "name": "python",
   "nbconvert_exporter": "python",
   "pygments_lexer": "ipython3",
   "version": "3.9.7"
  }
 },
 "nbformat": 4,
 "nbformat_minor": 5
}
