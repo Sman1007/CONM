{
 "cells": [
  {
   "cell_type": "code",
   "execution_count": 1,
   "id": "40d7ff8c",
   "metadata": {},
   "outputs": [
    {
     "ename": "TypeError",
     "evalue": "Cannot convert expression to float",
     "output_type": "error",
     "traceback": [
      "\u001b[1;31m---------------------------------------------------------------------------\u001b[0m",
      "\u001b[1;31mTypeError\u001b[0m                                 Traceback (most recent call last)",
      "Input \u001b[1;32mIn [1]\u001b[0m, in \u001b[0;36m<cell line: 7>\u001b[1;34m()\u001b[0m\n\u001b[0;32m      5\u001b[0m \u001b[38;5;66;03m# constructing functions\u001b[39;00m\n\u001b[0;32m      6\u001b[0m x1, x2, x3 \u001b[38;5;241m=\u001b[39m symbols(\u001b[38;5;124m'\u001b[39m\u001b[38;5;124mx1, x2, x3\u001b[39m\u001b[38;5;124m'\u001b[39m)\n\u001b[1;32m----> 7\u001b[0m f1 \u001b[38;5;241m=\u001b[39m \u001b[38;5;241m3\u001b[39m\u001b[38;5;241m*\u001b[39mx1 \u001b[38;5;241m-\u001b[39m \u001b[43mmath\u001b[49m\u001b[38;5;241;43m.\u001b[39;49m\u001b[43mcos\u001b[49m\u001b[43m(\u001b[49m\u001b[43mx2\u001b[49m\u001b[38;5;241;43m*\u001b[39;49m\u001b[43mx3\u001b[49m\u001b[43m)\u001b[49m \u001b[38;5;241m-\u001b[39m \u001b[38;5;241m0.5\u001b[39m\n\u001b[0;32m      8\u001b[0m f2 \u001b[38;5;241m=\u001b[39m (x1\u001b[38;5;241m*\u001b[39m\u001b[38;5;241m*\u001b[39m\u001b[38;5;241m2\u001b[39m) \u001b[38;5;241m-\u001b[39m \u001b[38;5;241m81\u001b[39m\u001b[38;5;241m*\u001b[39m(x2 \u001b[38;5;241m+\u001b[39m \u001b[38;5;241m0.1\u001b[39m)\u001b[38;5;241m*\u001b[39m\u001b[38;5;241m*\u001b[39m\u001b[38;5;241m2\u001b[39m \u001b[38;5;241m+\u001b[39m \u001b[38;5;241m1.06\u001b[39m\n\u001b[0;32m      9\u001b[0m f3 \u001b[38;5;241m=\u001b[39m math\u001b[38;5;241m.\u001b[39mexp(\u001b[38;5;241m-\u001b[39mx1\u001b[38;5;241m*\u001b[39mx2) \u001b[38;5;241m+\u001b[39m \u001b[38;5;241m20\u001b[39m\u001b[38;5;241m*\u001b[39mx3 \u001b[38;5;241m+\u001b[39m (\u001b[38;5;241m10\u001b[39m\u001b[38;5;241m*\u001b[39m\u001b[38;5;241m3.14\u001b[39m\u001b[38;5;241m-\u001b[39m\u001b[38;5;241m3\u001b[39m)\u001b[38;5;241m/\u001b[39m\u001b[38;5;241m3\u001b[39m\n",
      "File \u001b[1;32m~\\anaconda3\\lib\\site-packages\\sympy\\core\\expr.py:345\u001b[0m, in \u001b[0;36mExpr.__float__\u001b[1;34m(self)\u001b[0m\n\u001b[0;32m    343\u001b[0m \u001b[38;5;28;01mif\u001b[39;00m result\u001b[38;5;241m.\u001b[39mis_number \u001b[38;5;129;01mand\u001b[39;00m result\u001b[38;5;241m.\u001b[39mas_real_imag()[\u001b[38;5;241m1\u001b[39m]:\n\u001b[0;32m    344\u001b[0m     \u001b[38;5;28;01mraise\u001b[39;00m \u001b[38;5;167;01mTypeError\u001b[39;00m(\u001b[38;5;124m\"\u001b[39m\u001b[38;5;124mCannot convert complex to float\u001b[39m\u001b[38;5;124m\"\u001b[39m)\n\u001b[1;32m--> 345\u001b[0m \u001b[38;5;28;01mraise\u001b[39;00m \u001b[38;5;167;01mTypeError\u001b[39;00m(\u001b[38;5;124m\"\u001b[39m\u001b[38;5;124mCannot convert expression to float\u001b[39m\u001b[38;5;124m\"\u001b[39m)\n",
      "\u001b[1;31mTypeError\u001b[0m: Cannot convert expression to float"
     ]
    }
   ],
   "source": [
    "import numpy as np\n",
    "from sympy import *\n",
    "import math\n",
    "\n",
    "# constructing functions\n",
    "x1, x2, x3 = symbols('x1, x2, x3')\n",
    "f1 = 3*x1 - math.cos(x2*x3) - 0.5\n",
    "f2 = (x1**2) - 81*(x2 + 0.1)**2 + 1.06\n",
    "f3 = math.exp(-x1*x2) + 20*x3 + (10*3.14-3)/3\n",
    "\n",
    "\n",
    "# Computing Jacobian\n",
    "A = Matrix([f1, f2, f3])\n",
    "J = np.array(A.jacobian([x1, x2, x3]))\n",
    "J_sh = J.shape\n",
    "J_val = np.zeros(J_sh)\n",
    "\n",
    "\n",
    "F = np.array([[eval(str(f1))],\n",
    "              [eval(str(f2))],\n",
    "             [eval(str(f3))]])\n",
    "X0 = np.array([[0.1],\n",
    "               [0.1],\n",
    "              [0.1]])\n",
    "\n",
    "X1 = np.array([[10],\n",
    "               [10],\n",
    "              [10]])                               # Initialize arbritary big X1 value\n",
    "c = 0\n",
    "print(\"x1\\t\\t\\tx2\\t\\t\\tx3\")\n",
    "print(\"------------------\"*3)\n",
    "for it in range(100):\n",
    "    x1, x2, x3 = float(X0[0]), float(X0[1]), float(X0[2])\n",
    "    for i in range(J_sh[0]):                        # Evaluating Jacobian value at x, y\n",
    "        for j in range(J_sh[1]):\n",
    "            J_val[i][j] = eval(str(J[i][j]))        \n",
    "    \n",
    "    F = np.array([[eval(str(f1))],\n",
    "                  [eval(str(f2))],\n",
    "                 [eval(str(f3))] ])\n",
    "    # Applying formula Newton's Method\n",
    "    p = np.linalg.lstsq(J_val, F, rcond = None)     # Applying Least Square Method as Jacobian\n",
    "                                                    # could be singular\n",
    "    X1 = X0 - p[0]                                  # p[0] = inv(J)*F\n",
    "    if abs(np.linalg.norm(X1-X0))< 10**(-10):       # if norm(X1 - X0) > 10**(-5) then break\n",
    "        break\n",
    "\n",
    "    print(\"{1} \\t{2}\\t3\".format(float(X1[0]), float(X1[1]), float(X1[2])))\n",
    "    X0 = X1\n",
    "    c += 1\n",
    "    \n",
    "print(\"------------------\"*3)\n",
    "print(\"\\nNumber of iteration: \",c)\n",
    "x, y = float(X0[0]), float(X0[1])\n",
    "F = np.array([[eval(str(f1))],\n",
    "              [eval(str(f2))],\n",
    "             [eval(str(f3))]])\n",
    "print(\"\\nmin f1: {}\\nmin f2: {}\\nmin f3: {}\".format(F[0],F[1],F[2]))"
   ]
  },
  {
   "cell_type": "code",
   "execution_count": null,
   "id": "83157965",
   "metadata": {},
   "outputs": [],
   "source": []
  }
 ],
 "metadata": {
  "kernelspec": {
   "display_name": "Python 3 (ipykernel)",
   "language": "python",
   "name": "python3"
  },
  "language_info": {
   "codemirror_mode": {
    "name": "ipython",
    "version": 3
   },
   "file_extension": ".py",
   "mimetype": "text/x-python",
   "name": "python",
   "nbconvert_exporter": "python",
   "pygments_lexer": "ipython3",
   "version": "3.9.7"
  }
 },
 "nbformat": 4,
 "nbformat_minor": 5
}
