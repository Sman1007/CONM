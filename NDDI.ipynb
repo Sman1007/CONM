{
 "cells": [
  {
   "cell_type": "code",
   "execution_count": 1,
   "id": "3493cb57",
   "metadata": {},
   "outputs": [
    {
     "name": "stdout",
     "output_type": "stream",
     "text": [
      "number of points: 3\n",
      "x: 1 5 8\n",
      "Enter f[0]: -1\n",
      "Enter f[1]: 8\n",
      "Enter f[2]: 11\n",
      "-1 \t 2.25 \t -0.1786 \t \n",
      "8 \t 1.0 \t \n",
      "11 \t \n",
      "Interpolating point: 2\n",
      "Solution:  1.7857\n"
     ]
    }
   ],
   "source": [
    "### Newtons Divided Difference ###\n",
    "\n",
    "n = int(input('number of points: '));\n",
    "f = [[0 for i in range(n)]                  # constrating storage for divided diff table\n",
    "        for j in range(n)];\n",
    "\n",
    "x = list(map(int, input(\"x: \").split()))    # input x and y\n",
    "for i in range(len(x)):\n",
    "    f[i][0] = int(input(\"Enter f[{}]: \".format(i)))\n",
    "\n",
    "for j in range(1,n):                        # constraction divided diff table\n",
    "    for i in range(n-j):\n",
    "        f[i][j] = (f[i+1][j-1] - f[i][j-1])/(x[i+j] - x[i])\n",
    "        \n",
    "def printDiffTable(f, n):                   # printing divided diff table\n",
    "    for i in range(n):\n",
    "        for j in range(n - i):\n",
    "            print(round(f[i][j], 4), \"\\t\",\n",
    "                               end = \" \");\n",
    "        print(\"\");\n",
    "    \n",
    "printDiffTable(f, n)\n",
    "        \n",
    "s = f[0][0]\n",
    "v = float(input(\"Interpolating point: \"))\n",
    "for i in range(1, n):\n",
    "    p = 1\n",
    "    for j in range(i):\n",
    "        p = p*(v - x[j])                  # product term of each coefficient \n",
    "    s = s + p*f[0][i]                     \n",
    "\n",
    "print(\"Solution: \",round(s,4))\n"
   ]
  },
  {
   "cell_type": "code",
   "execution_count": null,
   "id": "e82b690f",
   "metadata": {},
   "outputs": [],
   "source": []
  }
 ],
 "metadata": {
  "kernelspec": {
   "display_name": "Python 3 (ipykernel)",
   "language": "python",
   "name": "python3"
  },
  "language_info": {
   "codemirror_mode": {
    "name": "ipython",
    "version": 3
   },
   "file_extension": ".py",
   "mimetype": "text/x-python",
   "name": "python",
   "nbconvert_exporter": "python",
   "pygments_lexer": "ipython3",
   "version": "3.9.7"
  }
 },
 "nbformat": 4,
 "nbformat_minor": 5
}
