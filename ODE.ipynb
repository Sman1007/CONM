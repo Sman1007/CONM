{
 "cells": [
  {
   "cell_type": "markdown",
   "id": "aba1de7d",
   "metadata": {},
   "source": [
    "## Euler's Method"
   ]
  },
  {
   "cell_type": "code",
   "execution_count": 101,
   "id": "979befd1",
   "metadata": {},
   "outputs": [
    {
     "name": "stdout",
     "output_type": "stream",
     "text": [
      "Enter initial conditions:\n",
      "x0 = 0\n",
      "y0 = 1\n",
      "Enter calculation point: \n",
      "xn = 1\n",
      "Enter steps size h:\n",
      "steps size = 0.25\n",
      "\n",
      "\tSOLUTION\n",
      "------------------------------\n",
      "x0\ty0\tslope\tyn\n",
      "------------------------------\n",
      "0.0000\t1.0000\t0.5000\t1.1250\n",
      "0.2500\t1.1250\t0.5882\t1.2721\n",
      "0.5000\t1.2721\t0.6602\t1.4371\n",
      "0.7500\t1.4371\t0.7181\t1.6166\n",
      "1.0000\t1.6166\t0.7643\t1.8077\n",
      "\n",
      "At x=1.0000, y=1.8077\n"
     ]
    }
   ],
   "source": [
    "# Euler method python program\n",
    "# function to be solved\n",
    "def f(x,y):\n",
    "    return (1+x)/(1+y)\n",
    "\n",
    "# Euler method\n",
    "def euler(x0,y0,xn,h):\n",
    "    print('\\n\\tSOLUTION')\n",
    "    print('------------------------------')    \n",
    "    print('x0\\ty0\\tslope\\tyn')\n",
    "    print('------------------------------')\n",
    "    n = int((xn - x0)/h)\n",
    "    for i in range(n+1):\n",
    "        slope = f(x0, y0)\n",
    "        yn = y0 + h * slope\n",
    "        print('%.4f\\t%.4f\\t%0.4f\\t%.4f'% (x0,y0,slope,yn) )\n",
    "        y0 = yn\n",
    "        x0 = x0+h\n",
    "    \n",
    "    print('\\nAt x=%.4f, y=%.4f' %(xn,yn))\n",
    "\n",
    "# Inputs\n",
    "print('Enter initial conditions:')\n",
    "x0 = float(input('x0 = '))\n",
    "y0 = float(input('y0 = '))\n",
    "\n",
    "print('Enter calculation point: ')\n",
    "xn = float(input('xn = '))\n",
    "\n",
    "print('Enter steps size h:')\n",
    "h = float(input('steps size = '))\n",
    "\n",
    "# Euler method call\n",
    "euler(x0,y0,xn,h)\n"
   ]
  },
  {
   "cell_type": "markdown",
   "id": "87788131",
   "metadata": {},
   "source": [
    "## 2nd order Taylors series"
   ]
  },
  {
   "cell_type": "code",
   "execution_count": 104,
   "id": "b4b776c2",
   "metadata": {},
   "outputs": [
    {
     "name": "stdout",
     "output_type": "stream",
     "text": [
      "Enter initial conditions: \n",
      "x0: 0\n",
      "y0: 1\n",
      "Enter calculated point: \n",
      "xn: 1\n",
      "Enter steps size: \n",
      "h = 0.25\n",
      "\n",
      "\tSOLUTION\n",
      "-------------------------\n",
      "x0\ty0\tyn\n",
      "-------------------------\n",
      "0.2500\t1.0000\t1.1367\n",
      "0.5000\t1.1367\t1.2936\n",
      "0.7500\t1.2936\t1.4668\n",
      "1.0000\t1.4668\t1.6532\n"
     ]
    }
   ],
   "source": [
    "from sympy import *\n",
    "x, y = symbols('x, y')\n",
    "\n",
    "# Constructing the function\n",
    "f = ((1+x)/(1+y))\n",
    "\n",
    "print(\"Enter initial conditions: \")\n",
    "x0 = float(input(\"x0: \"))\n",
    "y0 = float(input(\"y0: \"))\n",
    "\n",
    "print(\"Enter calculated point: \")\n",
    "xn = float(input(\"xn: \"))\n",
    "print(\"Enter steps size: \")\n",
    "h = float(input(\"h = \"))\n",
    "\n",
    "def Taylor_2Order(x0, y0, xn, h):\n",
    "    print('\\n\\tSOLUTION')\n",
    "    print('-------------------------')    \n",
    "    print('x0\\ty0\\tyn')\n",
    "    print('-------------------------')\n",
    "    while(x0 <= xn - h):\n",
    "        term1 = float(f.subs({x:x0, y:y0}))\n",
    "        term2 = float(f.diff(x).subs({x:x0, y:y0})) + float(f.diff(y).subs({x:x0, y:y0}) * f.diff(x).subs({x:x0, y:y0}))\n",
    "        yn = y0 + h*term1 + ((h**2)/2)*(term2)\n",
    "        x0 += h\n",
    "        print('%.4f\\t%.4f\\t%.4f'% (x0,y0,yn) )\n",
    "        y0 = yn\n",
    "        \n",
    "Taylor_2Order(x0, y0, xn, h)"
   ]
  },
  {
   "cell_type": "markdown",
   "id": "e3fffcd6",
   "metadata": {},
   "source": [
    "## Modified Euler Method "
   ]
  },
  {
   "cell_type": "code",
   "execution_count": 105,
   "id": "5f37fe60",
   "metadata": {},
   "outputs": [
    {
     "name": "stdout",
     "output_type": "stream",
     "text": [
      "\n",
      "At x=0.2500 predicted y=1.1250\n",
      "Correted y: 1.1250\n",
      "\n",
      "At x=0.5000 predicted y=1.2721\n",
      "Correted y: 1.2721\n",
      "\n",
      "At x=0.7500 predicted y=1.4371\n",
      "Correted y: 1.4371\n",
      "\n",
      "At x=1.0000 predicted y=1.6166\n",
      "Correted y: 1.6166\n",
      "\n",
      "At x=1.2500 predicted y=1.8077\n",
      "Correted y: 1.8077\n",
      "\n",
      "At x=1.5000 predicted y=2.0081\n",
      "Correted y: 2.0081\n",
      "\n",
      "At x=1.7500 predicted y=2.2158\n",
      "Correted y: 2.2158\n",
      "\n",
      "At x=2.0000 predicted y=2.4296\n",
      "Correted y: 2.4296\n"
     ]
    }
   ],
   "source": [
    "def f(x, y):\n",
    "    k = (1+x)/(1+y)\n",
    "    return k\n",
    "\n",
    "def predict(x, y, h):\n",
    "    y1p = y + h*f(x, y)\n",
    "    return y1p\n",
    "\n",
    "def correct(x, y, x1, y1, h):\n",
    "    e = 0.001\n",
    "    y1c = y1\n",
    "    while (abs(y1c - y1) > e):\n",
    "        y1 = y1c\n",
    "        y1c = y + 0.5*h*(f(x,y) + f(x1, y1))\n",
    "        print(\"corrected y:\", y1c)\n",
    "    return y1c\n",
    "\n",
    "def printFinalValues(x, xn, y, h):\n",
    "    while (x < xn):\n",
    "        x1 = x+h\n",
    "        y1p = predict(x, y, h)\n",
    "        print(\"\\nAt x=%.4f predicted y=%.4f\"%(x1,y1p))\n",
    "        y1c = correct(x, y, x1, y1p, h)\n",
    "        y = y1c\n",
    "        x = x1\n",
    "        print(\"Correted y: %.4f\"%(y))\n",
    "\n",
    "x, y = 0, 1\n",
    "h = 0.25\n",
    "xn=2\n",
    "printFinalValues(x, xn, y, h)"
   ]
  },
  {
   "cell_type": "markdown",
   "id": "5915b0ca",
   "metadata": {},
   "source": [
    "## Runge Kutta of order 2"
   ]
  },
  {
   "cell_type": "code",
   "execution_count": 106,
   "id": "4d669f1c",
   "metadata": {},
   "outputs": [
    {
     "name": "stdout",
     "output_type": "stream",
     "text": [
      "y(2.00) = 2.4473\n"
     ]
    }
   ],
   "source": [
    "def f(x, y):\n",
    "    return (1+x)/(1+y)\n",
    "\n",
    "def rungeKutta2(x0, y0, xn, h):\n",
    "    n = round((xn - x0)/h)\n",
    "    y = y0\n",
    "    for i in range(n):\n",
    "        k1 = h*f(x0, y)\n",
    "        k2 = h*f(x0 + 0.5*h, y + 0.5*k1)\n",
    "        \n",
    "        y = y + (1/2)*(k1 + k2)\n",
    "        x0 = x0 + h\n",
    "        \n",
    "    return y\n",
    "\n",
    "x0, y0, xn = 0, 1, 2\n",
    "h = 0.25\n",
    "print(\"y(%.2f) = %.4f\"%(xn, rungeKutta2(x0, y0, xn, h)))"
   ]
  },
  {
   "cell_type": "markdown",
   "id": "a50b38c9",
   "metadata": {},
   "source": [
    "## Runge Kutta of order 4"
   ]
  },
  {
   "cell_type": "code",
   "execution_count": 96,
   "id": "96da9602",
   "metadata": {},
   "outputs": [
    {
     "name": "stdout",
     "output_type": "stream",
     "text": [
      "y(2.00) = 2.4641\n"
     ]
    }
   ],
   "source": [
    "def f(x, y):\n",
    "    return (1+x)/(1+y)\n",
    "\n",
    "def rungeKutta4(x0, y0, xn, h):\n",
    "    n = round((xn - x0)/h)\n",
    "    y = y0\n",
    "    for i in range(n):\n",
    "        k1 = h*f(x0, y)\n",
    "        k2 = h*f(x0 + 0.5*h, y + 0.5*k1)\n",
    "        k3 = h*f(x0 + 0.5*h, y + 0.5*k2)\n",
    "        k4 = h*f(x0 + h, y + k3)\n",
    "        \n",
    "        y = y + (1/6)*(k1 + 2*k2 + 2*k3 + k4)\n",
    "        x0 = x0 + h\n",
    "        \n",
    "    return y\n",
    "\n",
    "x0, y0, xn = 0, 1, 2\n",
    "h = 0.25\n",
    "print(\"y(%.2f) = %.4f\"%(xn, rungeKutta4(x0, y0, xn, h)))"
   ]
  },
  {
   "cell_type": "code",
   "execution_count": null,
   "id": "52a2a3e3",
   "metadata": {},
   "outputs": [],
   "source": []
  }
 ],
 "metadata": {
  "kernelspec": {
   "display_name": "Python 3 (ipykernel)",
   "language": "python",
   "name": "python3"
  },
  "language_info": {
   "codemirror_mode": {
    "name": "ipython",
    "version": 3
   },
   "file_extension": ".py",
   "mimetype": "text/x-python",
   "name": "python",
   "nbconvert_exporter": "python",
   "pygments_lexer": "ipython3",
   "version": "3.9.7"
  }
 },
 "nbformat": 4,
 "nbformat_minor": 5
}
