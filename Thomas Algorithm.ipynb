{
 "cells": [
  {
   "cell_type": "markdown",
   "id": "25dc4001",
   "metadata": {},
   "source": [
    "## Thomas algoritms \n",
    "\n"
   ]
  },
  {
   "cell_type": "code",
   "execution_count": 4,
   "id": "4a05be34",
   "metadata": {},
   "outputs": [
    {
     "name": "stdout",
     "output_type": "stream",
     "text": [
      "Solution:  [-3.  2.  0.]\n"
     ]
    }
   ],
   "source": [
    "import numpy as np\n",
    "\n",
    "a  = [0, 3, 1]                    # Lower diagonal entries\n",
    "b = [1, 4, -1]                    # Diagonal entries\n",
    "c = [2, 5, 0]                     # Upper diagonal entries\n",
    "\n",
    "u = [1, -1, 2]                    # Ax=u \n",
    "n = len(b)\n",
    "\n",
    "gamma = np.zeros(n-1)\n",
    "d = np.zeros(n)\n",
    "\n",
    "gamma[0] = c[0]/b[0]              # Initial value of gamma\n",
    "d[0] = u[0]/b[0]                  # Initial value of d\n",
    "\n",
    "\n",
    "# Iterating \n",
    "for i in range(1, len(b)-1):\n",
    "    gamma[i] = c[i]/(b[i] - a[i]*gamma[i-1])\n",
    "    d[i] = (u[i] - a[i]*d[i-1])/(b[i] - a[i]*gamma[i-1])\n",
    "\n",
    "    \n",
    "m = n-1\n",
    "d[m] = (u[m] - a[m]*d[m-1])/(b[m] - a[m]*gamma[m-1])\n",
    "x = np.zeros(n)\n",
    "x[m] = d[m]\n",
    "for i in range(m-1, -1, -1):\n",
    "    x[i] = d[i] - gamma[i]*x[i+1]\n",
    "    \n",
    "print(\"Solution: \", x)\n"
   ]
  }
 ],
 "metadata": {
  "kernelspec": {
   "display_name": "Python 3 (ipykernel)",
   "language": "python",
   "name": "python3"
  },
  "language_info": {
   "codemirror_mode": {
    "name": "ipython",
    "version": 3
   },
   "file_extension": ".py",
   "mimetype": "text/x-python",
   "name": "python",
   "nbconvert_exporter": "python",
   "pygments_lexer": "ipython3",
   "version": "3.9.7"
  }
 },
 "nbformat": 4,
 "nbformat_minor": 5
}
