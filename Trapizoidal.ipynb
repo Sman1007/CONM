{
 "cells": [
  {
   "cell_type": "code",
   "execution_count": 52,
   "id": "4dba9216",
   "metadata": {},
   "outputs": [
    {
     "name": "stdout",
     "output_type": "stream",
     "text": [
      "Trapizoidal:  1.0254283164840186\n",
      "error  0.0022916346253389897\n"
     ]
    }
   ],
   "source": [
    "import math \n",
    "import numpy as np\n",
    "\n",
    "def y(x):\n",
    "    f = (math.sqrt(1+4*(x**2)))*(math.exp(-(x**2)))\n",
    "    return f\n",
    "    \n",
    "n = 6\n",
    "a = 0\n",
    "b = 1\n",
    "\n",
    "h = (b-a)/n\n",
    "A = y(a) + y(b)\n",
    "z = h\n",
    "for i in range(1,n):\n",
    "    A = A + 2*y(a+z)\n",
    "    z=z+h\n",
    "    \n",
    "A = A*(h/2)\n",
    "print(\"Trapizoidal: \",A)\n",
    "\n",
    "from scipy.integrate import quad\n",
    "\n",
    "k = quad(y,a,b)\n",
    "act = k[0]\n",
    "\n",
    "error = abs(act - A)\n",
    "print(\"error \", error)\n",
    "\n"
   ]
  },
  {
   "cell_type": "code",
   "execution_count": 44,
   "id": "d561f127",
   "metadata": {},
   "outputs": [
    {
     "data": {
      "text/plain": [
       "(174.36380465577702, 5.20907350515668e-10)"
      ]
     },
     "execution_count": 44,
     "metadata": {},
     "output_type": "execute_result"
    }
   ],
   "source": [
    "from scipy.integrate import quad\n",
    "\n",
    "k = quad(y,0,4)\n",
    "k"
   ]
  },
  {
   "cell_type": "code",
   "execution_count": 45,
   "id": "5d487062",
   "metadata": {},
   "outputs": [
    {
     "name": "stdout",
     "output_type": "stream",
     "text": [
      "Number of intervals: 6\n",
      "Simpson's 1/3rd  2.034052039418837\n",
      "error  2.9913602547448903e-05\n"
     ]
    }
   ],
   "source": [
    "# Simpson's 1/3\n",
    "\n",
    "def y(x):\n",
    "    f = (math.sqrt(1+x**2))*(math.exp(x))\n",
    "    return f\n",
    "\n",
    "n = int(input(\"Number of intervals: \"))\n",
    "a = 0\n",
    "b = 1\n",
    "\n",
    "h = (b-a)/n\n",
    "A = y(a) + y(b)\n",
    "z = h\n",
    "if n%2 == 0:\n",
    "    for i in range(1,n):\n",
    "        if i%2 == 1:\n",
    "            A = A + 4*y(a+z)\n",
    "        else:\n",
    "            A = A + 2*y(a+z)\n",
    "        z=z+h\n",
    "    A = A*(h/3)\n",
    "    print(\"Simpson's 1/3rd \",A)\n",
    "else:\n",
    "    print(\"n is not even.\")\n",
    "    \n",
    "from scipy.integrate import quad\n",
    "k = quad(y, a, b)\n",
    "act = k[0]\n",
    "\n",
    "error = abs(A - act)\n",
    "print(\"error \", error)"
   ]
  },
  {
   "cell_type": "code",
   "execution_count": 46,
   "id": "2c13ca71",
   "metadata": {},
   "outputs": [
    {
     "name": "stdout",
     "output_type": "stream",
     "text": [
      "Number of intervals: 6\n",
      "2.0340886466014156\n",
      "error  6.65207851260341e-05\n"
     ]
    }
   ],
   "source": [
    "# Simpson's 3/8\n",
    "\n",
    "def y(x):\n",
    "    f = (math.sqrt(1+x**2))*(math.exp(x))\n",
    "    return f\n",
    "\n",
    "n = int(input(\"Number of intervals: \"))\n",
    "a = 0\n",
    "b = 1\n",
    "\n",
    "h = (b-a)/n\n",
    "A = y(a) + y(b)\n",
    "z = h\n",
    "if n%3 == 0:\n",
    "    for i in range(1,n):\n",
    "        if i%3 != 0 :\n",
    "            A = A + 3*y(a+z)\n",
    "        else:\n",
    "            A = A + 2*y(a+z)\n",
    "        z=z+h\n",
    "\n",
    "    A = A*(h*(3/8))\n",
    "    print(A)\n",
    "else:\n",
    "    print(\"n is not multiple of 3.\")\n",
    "    \n",
    "from scipy.integrate import quad\n",
    "k = quad(y, a, b)\n",
    "act = k[0]\n",
    "\n",
    "error = abs(A - act)\n",
    "print(\"error \", error)"
   ]
  },
  {
   "cell_type": "code",
   "execution_count": 14,
   "id": "c2d9d731",
   "metadata": {},
   "outputs": [
    {
     "name": "stdout",
     "output_type": "stream",
     "text": [
      "2.0325420674778343\n",
      "error  0.0014800583384553256\n"
     ]
    }
   ],
   "source": [
    "# Gauss Quadrature\n",
    "\n",
    "def y(x):\n",
    "    f = (math.sqrt(1+x**2))*(math.exp(x))\n",
    "    return f\n",
    "\n",
    "a = 0\n",
    "b = 1\n",
    "\n",
    "def phi(t, a, b):\n",
    "    f = ( (b-a)/2 )*( y(((b-a)/2)*t + (b+a)/2) )\n",
    "    return f\n",
    "\n",
    "A = phi(1/(3**(1/2)), a, b) + phi(-1/(3**(1/2)), a, b)\n",
    "print(A)\n",
    "\n",
    "from scipy.integrate import quad\n",
    "k = quad(y, a, b)\n",
    "act = k[0]\n",
    "\n",
    "error = abs(A - act)\n",
    "print(\"error \", error)"
   ]
  },
  {
   "cell_type": "code",
   "execution_count": null,
   "id": "0cb9b165",
   "metadata": {},
   "outputs": [],
   "source": []
  },
  {
   "cell_type": "code",
   "execution_count": 19,
   "id": "2cf37d63",
   "metadata": {},
   "outputs": [
    {
     "name": "stdout",
     "output_type": "stream",
     "text": [
      "Enter number of intervals: 6\n",
      "Enter a and b: 0 1\n",
      "\n",
      "Trapizoidal:  1.0254283164840186\n",
      "SimpsonsOneThird:  1.0277490094156871\n",
      "SimpsonsThreeEight:  1.0278135842446237\n",
      "GaussQuadrature:  1.020448140355259\n",
      "\n",
      "Actual integration by python library:  1.0277199511093575\n",
      "\n",
      "Trapizoidal error:  0.0022916346253389897\n",
      "SimpsonsOneThird error:  2.905830632959905e-05\n",
      "SimpsonsThreeEight error:  9.36331352661135e-05\n",
      "GaussQuadrature error:  0.007271810754098551\n"
     ]
    }
   ],
   "source": [
    "import math \n",
    "\n",
    "def y(x):\n",
    "    f = (math.sqrt(1+4*(x**2)))*(math.exp(-(x**2)))\n",
    "    return f\n",
    "\n",
    "n = int(input(\"Enter number of intervals: \"))\n",
    "a, b = map(int, input(\"Enter a and b: \").split())\n",
    " \n",
    "h = (b-a)/n                           # step size\n",
    "\n",
    "def Trapizoidal(y, a, b, n):\n",
    "    A = y(a) + y(b)\n",
    "    z = h\n",
    "    for i in range(1,n):\n",
    "        A = A + 2*y(a+z)\n",
    "        z=z+h\n",
    "    A = A*(h/2)\n",
    "    return A\n",
    "\n",
    "def SimpsonsOneThird(y, a, b, n):\n",
    "    A1 = y(a) + y(b)\n",
    "    z1 = h\n",
    "    if n%2 == 0:\n",
    "        for i in range(1,n):\n",
    "            if i%2 == 1:\n",
    "                A1 = A1 + 4*y(a+z1)\n",
    "            else:\n",
    "                A1 = A1 + 2*y(a+z1)\n",
    "            z1=z1+h\n",
    "        A1 = A1*(h/3)\n",
    "        return A1\n",
    "    else:\n",
    "        print(\"n is not even.\")\n",
    "        \n",
    "        \n",
    "def SimpsonsThreeEight(y, a, b, n):\n",
    "    A = y(a) + y(b)\n",
    "    z = h\n",
    "    if n%3 == 0:\n",
    "        for i in range(1,n):\n",
    "            if i%3 != 0 :\n",
    "                A = A + 3*y(a+z)\n",
    "            else:\n",
    "                A = A + 2*y(a+z)\n",
    "            z=z+h\n",
    "\n",
    "        A = A*(h*(3/8))\n",
    "        return A\n",
    "    else:\n",
    "        print(\"n is not multiple of 3.\")\n",
    "\n",
    "# Defining phi function for Gaussian Quadrature\n",
    "def phi(t, a, b):\n",
    "    f = ( (b-a)/2 )*( y(((b-a)/2)*t + (b+a)/2) )\n",
    "    return f\n",
    "\n",
    "def GaussQuadrature(phiFunc, a, b):\n",
    "    A = phiFunc(1/(3**(1/2)), a, b) + phiFunc(-1/(3**(1/2)), a, b)\n",
    "    return A\n",
    "    \n",
    "T = Trapizoidal(y, a, b, n)\n",
    "S_13 = SimpsonsOneThird(y, a, b, n)\n",
    "S_38 = SimpsonsThreeEight(y, a, b, n)\n",
    "G_Q = GaussQuadrature(phi, a, b)\n",
    "\n",
    "print(\"\\nTrapizoidal: \", T)\n",
    "print(\"SimpsonsOneThird: \", S_13)\n",
    "print(\"SimpsonsThreeEight: \", S_38)\n",
    "print(\"GaussQuadrature: \", G_Q)\n",
    "\n",
    "from scipy.integrate import quad\n",
    "k = quad(y,a,b)\n",
    "act = k[0]\n",
    "\n",
    "print(\"\\nActual integration by python library: \", act)\n",
    "\n",
    "print(\"\\nTrapizoidal error: \", abs(T - act))\n",
    "print(\"SimpsonsOneThird error: \", abs(S_13 - act))\n",
    "print(\"SimpsonsThreeEight error: \", abs(S_38 - act))\n",
    "print(\"GaussQuadrature error: \", abs(G_Q - act))"
   ]
  },
  {
   "cell_type": "code",
   "execution_count": 10,
   "id": "f5c712be",
   "metadata": {},
   "outputs": [
    {
     "data": {
      "text/plain": [
       "1.4031759039542016"
      ]
     },
     "execution_count": 10,
     "metadata": {},
     "output_type": "execute_result"
    }
   ],
   "source": [
    "from scipy.integrate import quad\n",
    "\n",
    "k = quad(y,a,b)\n",
    "act = k[0]\n",
    "act"
   ]
  },
  {
   "cell_type": "code",
   "execution_count": 1,
   "id": "47b33178",
   "metadata": {},
   "outputs": [
    {
     "name": "stdout",
     "output_type": "stream",
     "text": [
      "2 3\n"
     ]
    }
   ],
   "source": [
    "a, b = map(int, input().split())"
   ]
  },
  {
   "cell_type": "code",
   "execution_count": 18,
   "id": "426248ab",
   "metadata": {},
   "outputs": [
    {
     "name": "stdout",
     "output_type": "stream",
     "text": [
      "1.020448140355259\n"
     ]
    },
    {
     "data": {
      "text/plain": [
       "1.0277199511093575"
      ]
     },
     "execution_count": 18,
     "metadata": {},
     "output_type": "execute_result"
    }
   ],
   "source": [
    "import math \n",
    "\n",
    "def y(x):\n",
    "    f = (math.sqrt(1+4*(x**2)))*(math.exp(-(x**2)))\n",
    "    return f\n",
    "\n",
    "n = 4\n",
    "a, b = 0, 1\n",
    "\n",
    "def phi(t, a, b):\n",
    "    f = ( (b-a)/2 )*( y(((b-a)/2)*t + (b+a)/2) )\n",
    "    return f\n",
    "\n",
    "def GaussQuadrature(phiFunc, a, b):\n",
    "    A = phiFunc(1/(3**(1/2)), a, b) + phiFunc(-1/(3**(1/2)), a, b)\n",
    "    return A\n",
    "\n",
    "print(GaussQuadrature(phi, a, b))\n",
    "\n",
    "from scipy.integrate import quad\n",
    "\n",
    "k = quad(y,a,b)\n",
    "act = k[0]\n",
    "act"
   ]
  },
  {
   "cell_type": "code",
   "execution_count": 16,
   "id": "f928b67b",
   "metadata": {},
   "outputs": [
    {
     "name": "stdout",
     "output_type": "stream",
     "text": [
      "\n",
      "*\n",
      "**\n",
      "***\n",
      "****\n",
      "*****\n",
      "******\n",
      "*******\n",
      "********\n",
      "*********\n"
     ]
    }
   ],
   "source": [
    "for i in range(10):\n",
    "    print(i*\"*\")"
   ]
  },
  {
   "cell_type": "code",
   "execution_count": null,
   "id": "71e1d790",
   "metadata": {},
   "outputs": [],
   "source": []
  }
 ],
 "metadata": {
  "kernelspec": {
   "display_name": "Python 3 (ipykernel)",
   "language": "python",
   "name": "python3"
  },
  "language_info": {
   "codemirror_mode": {
    "name": "ipython",
    "version": 3
   },
   "file_extension": ".py",
   "mimetype": "text/x-python",
   "name": "python",
   "nbconvert_exporter": "python",
   "pygments_lexer": "ipython3",
   "version": "3.9.7"
  }
 },
 "nbformat": 4,
 "nbformat_minor": 5
}
